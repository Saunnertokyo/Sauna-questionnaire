{
 "cells": [
  {
   "cell_type": "code",
   "execution_count": 1,
   "metadata": {},
   "outputs": [
    {
     "name": "stderr",
     "output_type": "stream",
     "text": [
      "Duplicate key in file WindowsPath('C:/Users/popho/anaconda3/lib/site-packages/matplotlib/mpl-data/matplotlibrc'), line 250 ('font.family : IPAexGothic')\n"
     ]
    }
   ],
   "source": [
    "import numpy as np\n",
    "import pandas as pd\n",
    "import re\n",
    "from matplotlib import pyplot as plt\n",
    "import seaborn as sns\n",
    "sns.set_style(style='darkgrid')\n",
    "%matplotlib inline\n",
    "plt.rcParams['font.family'] = 'IPAexGothic'\n",
    "import warnings\n",
    "warnings.filterwarnings('ignore')\n",
    "from wordcloud import WordCloud\n",
    "import MeCab\n",
    "import unidic\n",
    "import codecs"
   ]
  },
  {
   "cell_type": "code",
   "execution_count": 2,
   "metadata": {},
   "outputs": [],
   "source": [
    "df = pd.read_csv(\"20211026_アンケート結果.csv\")"
   ]
  },
  {
   "cell_type": "code",
   "execution_count": 3,
   "metadata": {},
   "outputs": [],
   "source": [
    "df.columns = [\"time\",\"Reflesh\",\"Mentalhealth\",\"Immunity\",\"bodypain\", \"goodsleep\",\"enjoymeal\",\"friendship\",\n",
    "              \"traveler\",\"pleasure\",\"skinbeauty\",\"metabolism\",\"detox\",\"diet\",\"coworkingspace\",\"relaxspace\",\n",
    "              \"frequency\",\"expenditure\",\"age\",\"gender\",\"family\",\"education\",\"job\",\"income\",\"region\",\"exercise\"]\n",
    "\n",
    "df[\"frequency\"].replace(\"毎日\",\"everyday\",inplace = True)\n",
    "df[\"frequency\"].replace(\"1週間に3-6回\",\"3-6 per week\",inplace = True)\n",
    "df[\"frequency\"].replace(\"1週間に1-2回\",\"1-2 per week\",inplace = True)\n",
    "df[\"frequency\"].replace(\"1ヶ月に2-3回\",\"2-3 per month\",inplace = True)\n",
    "df[\"frequency\"].replace(\"1ヶ月に1回\",\"1 per month\",inplace = True)\n",
    "df[\"frequency\"].replace(\"2-3ヶ月に1回\",\"1 per 2-3 month\",inplace = True)\n",
    "df[\"frequency\"].replace(\"4-6ヶ月に1回\",\"1 per 4-6 month\",inplace = True)\n",
    "\n",
    "df[\"age\"].replace(\"20代\",\"20s\",inplace = True)\n",
    "df[\"age\"].replace(\"30代\",\"30s\",inplace = True)\n",
    "df[\"age\"].replace(\"40代\",\"40s\",inplace = True)\n",
    "df[\"age\"].replace(\"50代\",\"50s\",inplace = True)\n",
    "df[\"age\"].replace(\"60代\",\"60s\",inplace = True)\n",
    "\n",
    "df[\"gender\"].replace(\"男性\",\"male\",inplace = True)\n",
    "df[\"gender\"].replace(\"女性\",\"female\",inplace = True)\n",
    "df[\"gender\"].replace(\"回答しない\",\"no answer\",inplace = True)\n",
    "\n",
    "df[\"family\"].replace(\"独身\",\"single\",inplace = True)\n",
    "df[\"family\"].replace(\"結婚しており、子供がいる\",\"marrried+child\",inplace = True)\n",
    "df[\"family\"].replace(\"結婚しているが、子供はいない\",\"marrried+no child\",inplace = True)\n",
    "df[\"family\"].replace(\"その他\",\"others\",inplace = True)\n",
    "\n",
    "df[\"education\"].replace(\"中学校\",\"junior high\",inplace = True)\n",
    "df[\"education\"].replace(\"高等学校\",\"high school\",inplace = True)\n",
    "df[\"education\"].replace(\"短期大学\",\"junior college\",inplace = True)\n",
    "df[\"education\"].replace(\"4年制大学\",\"college\",inplace = True)\n",
    "df[\"education\"].replace(\"大学院\",\"grad school\",inplace = True)\n",
    "\n",
    "df[\"job\"].replace(\"会社員\",\"businessman\",inplace = True)\n",
    "df[\"job\"].replace(\"自営業\",\"own business\",inplace = True)\n",
    "df[\"job\"].replace(\"インストラクター\",\"instructor\",inplace = True)\n",
    "df[\"job\"].replace(\"公務員\",\"public servant\",inplace = True)\n",
    "df[\"job\"].replace(\"フリーランス\",\"freelancer\",inplace = True)\n",
    "df[\"job\"].replace(\"学生\",\"student\",inplace = True)\n",
    "df[\"job\"].replace(\"パート・アルバイト\",\"part-time worker\",inplace = True)\n",
    "df[\"job\"].replace(\"会社役員\",\"board member\",inplace = True)\n",
    "df[\"job\"].replace(\"士業\",\"professional\",inplace = True)\n",
    "df[\"job\"].replace(\"無職\",\"unemployed\",inplace = True)\n",
    "df[\"job\"].replace(\"専業主婦・専業主夫\",\"housewife\",inplace = True)\n",
    "\n",
    "df[\"income\"].replace(\"200万円未満\",\"less than 200\",inplace = True)\n",
    "df[\"income\"].replace(\"200万円以上400万円未満\",\"200-400\",inplace = True)\n",
    "df[\"income\"].replace(\"400万円以上600万円未満\",\"400-600\",inplace = True)\n",
    "df[\"income\"].replace(\"600万円以上800万円未満\",\"600-800\",inplace = True)\n",
    "df[\"income\"].replace(\"800万円以上1,000万円未満\",\"800-1000\",inplace = True)\n",
    "df[\"income\"].replace(\"1,000万円以上1,500万円未満\",\"1000-1500\",inplace = True)\n",
    "df[\"income\"].replace(\"1,500万円以上2,000万円未満\",\"1500-2000\",inplace = True)\n",
    "df[\"income\"].replace(\"2,000万円以上\",\"over 2000\",inplace = True)\n",
    "\n",
    "df[\"region\"].replace(\"関東\",\"Kanto\",inplace = True)\n",
    "df[\"region\"].replace(\"近畿\",\"Kinki\",inplace = True)\n",
    "df[\"region\"].replace(\"北海道\",\"Hokkaido\",inplace = True)\n",
    "df[\"region\"].replace(\"東海\",\"Tokai\",inplace = True)\n",
    "df[\"region\"].replace(\"九州\",\"Kyushu\",inplace = True)\n",
    "df[\"region\"].replace(\"北陸\",\"Hokuriku\",inplace = True)\n",
    "df[\"region\"].replace(\"四国\",\"Shikoku\",inplace = True)\n",
    "df[\"region\"].replace(\"中国\",\"Chugoku\",inplace = True)\n",
    "df[\"region\"].replace(\"東北\",\"Tohoku\",inplace = True)\n",
    "df[\"region\"].replace(\"海外\",\"Overseas\",inplace = True)\n",
    "\n",
    "df[\"exercise\"].replace(\"毎日\",\"everyday\",inplace = True)\n",
    "df[\"exercise\"].replace(\"1週間に3-6回\",\"3-6 per week\",inplace = True)\n",
    "df[\"exercise\"].replace(\"1週間に1-2回\",\"1-2 per week\",inplace = True)\n",
    "df[\"exercise\"].replace(\"1ヶ月に2-3回\",\"2-3 per month\",inplace = True)\n",
    "df[\"exercise\"].replace(\"1ヶ月に1回\",\"1 per month\",inplace = True)\n",
    "df[\"exercise\"].replace(\"1ヶ月に1回未満\",\"less than 1 per month\",inplace = True)\n",
    "\n",
    "up =df.expenditure.quantile(0.99)\n",
    "down = df.expenditure.quantile(0.005)\n",
    "df = df.query('expenditure < @up')\n",
    "df = df.query('expenditure > @down')"
   ]
  },
  {
   "cell_type": "code",
   "execution_count": 4,
   "metadata": {},
   "outputs": [],
   "source": [
    "df.to_csv(\"20211026_processed.csv\")"
   ]
  }
 ],
 "metadata": {
  "kernelspec": {
   "display_name": "Python 3",
   "language": "python",
   "name": "python3"
  },
  "language_info": {
   "codemirror_mode": {
    "name": "ipython",
    "version": 3
   },
   "file_extension": ".py",
   "mimetype": "text/x-python",
   "name": "python",
   "nbconvert_exporter": "python",
   "pygments_lexer": "ipython3",
   "version": "3.8.5"
  }
 },
 "nbformat": 4,
 "nbformat_minor": 4
}
